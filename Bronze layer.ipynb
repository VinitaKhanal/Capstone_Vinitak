{
 "cells": [
  {
   "cell_type": "markdown",
   "metadata": {
    "application/vnd.databricks.v1+cell": {
     "cellMetadata": {
      "byteLimit": 2048000,
      "rowLimit": 10000
     },
     "inputWidgets": {},
     "nuid": "5d37e279-7935-4d98-8434-a48107679e54",
     "showTitle": false,
     "title": ""
    }
   },
   "source": [
    "##Reading data into Bronze layer from source files"
   ]
  },
  {
   "cell_type": "markdown",
   "metadata": {
    "application/vnd.databricks.v1+cell": {
     "cellMetadata": {
      "byteLimit": 2048000,
      "rowLimit": 10000
     },
     "inputWidgets": {},
     "nuid": "2878ad8c-f5a2-48c6-94d0-f2a65084bed0",
     "showTitle": false,
     "title": ""
    }
   },
   "source": [
    "####Importing the conifg parameters"
   ]
  },
  {
   "cell_type": "code",
   "execution_count": 0,
   "metadata": {
    "application/vnd.databricks.v1+cell": {
     "cellMetadata": {
      "byteLimit": 2048000,
      "rowLimit": 10000
     },
     "inputWidgets": {},
     "nuid": "8831849f-983c-473d-a910-daf78ba915df",
     "showTitle": false,
     "title": ""
    }
   },
   "outputs": [],
   "source": [
    "%run /capstone/config_script/setup_schema_and_config"
   ]
  },
  {
   "cell_type": "markdown",
   "metadata": {
    "application/vnd.databricks.v1+cell": {
     "cellMetadata": {
      "byteLimit": 2048000,
      "rowLimit": 10000
     },
     "inputWidgets": {},
     "nuid": "fa742fae-5503-4547-b345-788f3f5770c6",
     "showTitle": false,
     "title": ""
    }
   },
   "source": [
    "####Reading data from cust table"
   ]
  },
  {
   "cell_type": "code",
   "execution_count": 0,
   "metadata": {
    "application/vnd.databricks.v1+cell": {
     "cellMetadata": {
      "byteLimit": 2048000,
      "rowLimit": 10000
     },
     "inputWidgets": {},
     "nuid": "28fad19b-4a6e-4d6d-b9bb-d7acc8d60b6d",
     "showTitle": false,
     "title": ""
    }
   },
   "outputs": [
    {
     "output_type": "display_data",
     "data": {
      "text/html": [
       "<style scoped>\n",
       "  .table-result-container {\n",
       "    max-height: 300px;\n",
       "    overflow: auto;\n",
       "  }\n",
       "  table, th, td {\n",
       "    border: 1px solid black;\n",
       "    border-collapse: collapse;\n",
       "  }\n",
       "  th, td {\n",
       "    padding: 5px;\n",
       "  }\n",
       "  th {\n",
       "    text-align: left;\n",
       "  }\n",
       "</style><div class='table-result-container'><table class='table-result'><thead style='background-color: white'><tr></tr></thead><tbody></tbody></table></div>"
      ]
     },
     "metadata": {
      "application/vnd.databricks.v1+output": {
       "addedWidgets": {},
       "aggData": [],
       "aggError": "",
       "aggOverflow": false,
       "aggSchema": [],
       "aggSeriesLimitReached": false,
       "aggType": "",
       "arguments": {},
       "columnCustomDisplayInfos": {},
       "data": [],
       "datasetInfos": [],
       "dbfsResultPath": null,
       "isJsonSchema": true,
       "metadata": {},
       "overflow": false,
       "plotOptions": {
        "customPlotOptions": {},
        "displayType": "table",
        "pivotAggregation": null,
        "pivotColumns": null,
        "xColumns": null,
        "yColumns": null
       },
       "removedWidgets": [],
       "schema": [],
       "type": "table"
      }
     },
     "output_type": "display_data"
    },
    {
     "output_type": "stream",
     "name": "stdout",
     "output_type": "stream",
     "text": [
      "Customer input path: dbfs:/FileStore/capstone/cust_tbl/\nBranch input path: dbfs:/FileStore/capstone/branches_tbl/\nTransaction input path: dbfs:/FileStore/capstone/txn_tbl/\nCheckpoint location: dbfs:/FileStore/capstone/txn_tbl/checkpoint_location/\nColumns for null check: ['transaction_id', 'customer_id']\nExpected customer ID length: 5\nOrdered fraud flag columns: ['flag_id', 'transaction_id', 'flag_type', 'timestamp', 'confidence_score']\nOrdered customer segments columns: ['customer_id', 'segment_name', 'segment_description', 'last_updated_date']\nbronze_tables['txn'] is: bronze.txn_tbl\nbronze_tables['cust'] is: bronze.cust_tbl\nbronze_tables['branch'] is: bronze.branches_tbl\n"
     ]
    }
   ],
   "source": [
    "cust_df = spark.read.format(\"delta\").load(input_path_cust)"
   ]
  },
  {
   "cell_type": "markdown",
   "metadata": {
    "application/vnd.databricks.v1+cell": {
     "cellMetadata": {
      "byteLimit": 2048000,
      "rowLimit": 10000
     },
     "inputWidgets": {},
     "nuid": "73cd9ac4-71b7-408f-8897-b5550b991ef5",
     "showTitle": false,
     "title": ""
    }
   },
   "source": [
    "####Reading data from branches table\n"
   ]
  },
  {
   "cell_type": "code",
   "execution_count": 0,
   "metadata": {
    "application/vnd.databricks.v1+cell": {
     "cellMetadata": {
      "byteLimit": 2048000,
      "rowLimit": 10000
     },
     "inputWidgets": {},
     "nuid": "7f0dd9e2-0e36-43ba-8eec-7f33545fefc5",
     "showTitle": false,
     "title": ""
    }
   },
   "outputs": [],
   "source": [
    "branches_df = spark.read.format(\"delta\").load(input_path_branch)"
   ]
  },
  {
   "cell_type": "markdown",
   "metadata": {
    "application/vnd.databricks.v1+cell": {
     "cellMetadata": {
      "byteLimit": 2048000,
      "rowLimit": 10000
     },
     "inputWidgets": {},
     "nuid": "7d5c736f-5f33-4bae-b81e-c5dfd02223b0",
     "showTitle": false,
     "title": ""
    }
   },
   "source": [
    "####Writing data into bronze tables "
   ]
  },
  {
   "cell_type": "code",
   "execution_count": 0,
   "metadata": {
    "application/vnd.databricks.v1+cell": {
     "cellMetadata": {
      "byteLimit": 2048000,
      "rowLimit": 10000
     },
     "inputWidgets": {},
     "nuid": "13c04d72-b4c8-4a13-911c-895d6ec17ffd",
     "showTitle": false,
     "title": ""
    }
   },
   "outputs": [],
   "source": [
    "\n",
    "cust_df.write.mode('overwrite').saveAsTable(bronze_tables['cust'])\n",
    "branches_df.write.mode('overwrite').saveAsTable(bronze_tables['branch'])"
   ]
  },
  {
   "cell_type": "markdown",
   "metadata": {
    "application/vnd.databricks.v1+cell": {
     "cellMetadata": {
      "byteLimit": 2048000,
      "rowLimit": 10000
     },
     "inputWidgets": {},
     "nuid": "4c774c02-bef9-4696-89f0-3d39c62603dd",
     "showTitle": false,
     "title": ""
    }
   },
   "source": [
    "####*Schema Evalution Code commented for now*"
   ]
  },
  {
   "cell_type": "code",
   "execution_count": 0,
   "metadata": {
    "application/vnd.databricks.v1+cell": {
     "cellMetadata": {
      "byteLimit": 2048000,
      "rowLimit": 10000
     },
     "inputWidgets": {},
     "nuid": "0ef73351-4a30-4b64-9c20-06750ac3c867",
     "showTitle": false,
     "title": ""
    }
   },
   "outputs": [],
   "source": [
    "# cust_df.write.format(\"delta\").mode(\"append\").option(\"mergeSchema\",\"true\").saveAsTable(bronze_tables['cust'])\n",
    "# branches_df.write.format(\"delta\").mode(\"append\").option(\"mergeSchema\",\"true\").saveAsTable(bronze_tables['branch'])"
   ]
  },
  {
   "cell_type": "markdown",
   "metadata": {
    "application/vnd.databricks.v1+cell": {
     "cellMetadata": {
      "byteLimit": 2048000,
      "rowLimit": 10000
     },
     "inputWidgets": {},
     "nuid": "73e71ae2-d400-40f4-ad52-f4666976e4cf",
     "showTitle": false,
     "title": ""
    }
   },
   "source": [
    "###Reading streaming transaction data "
   ]
  },
  {
   "cell_type": "code",
   "execution_count": 0,
   "metadata": {
    "application/vnd.databricks.v1+cell": {
     "cellMetadata": {
      "byteLimit": 2048000,
      "rowLimit": 10000
     },
     "inputWidgets": {},
     "nuid": "3a6add0f-f684-4aec-9b1d-6a7b27f6dd56",
     "showTitle": false,
     "title": ""
    }
   },
   "outputs": [
    {
     "output_type": "stream",
     "name": "stdout",
     "output_type": "stream",
     "text": [
      "Batch for epoch 0 processed.\nBatch for epoch 1 processed.\nBatch for epoch 2 processed.\nBatch for epoch 3 processed.\nBatch for epoch 4 processed.\nBatch for epoch 5 processed.\nBatch for epoch 6 processed.\nBatch for epoch 7 processed.\nBatch for epoch 8 processed.\nBatch for epoch 9 processed.\nBatch for epoch 10 processed.\nBatch for epoch 11 processed.\nBatch for epoch 12 processed.\nBatch for epoch 13 processed.\nBatch for epoch 14 processed.\nBatch for epoch 15 processed.\nBatch for epoch 16 processed.\nBatch for epoch 17 processed.\nBatch for epoch 18 processed.\nBatch for epoch 19 processed.\nBatch for epoch 20 processed.\nBatch for epoch 21 processed.\nBatch for epoch 22 processed.\nBatch for epoch 23 processed.\nBatch for epoch 24 processed.\n"
     ]
    }
   ],
   "source": [
    "from pyspark.sql import SparkSession\n",
    "\n",
    "spark = SparkSession.builder \\\n",
    "    .appName(\"Delta Stream Processing\") \\\n",
    "    .getOrCreate()\n",
    "\n",
    "# Read stream from Delta format\n",
    "streamingDF = spark.readStream.format(\"delta\").option(\"header\", \"true\").load(input_path_txn)\n",
    "\n",
    "def foreach_batch_function(df, epoch_id):\n",
    "    # Write to a Databricks Delta table\n",
    "    df.write.format(\"delta\").mode(\"append\").saveAsTable(bronze_tables['txn'])\n",
    "    print(f\"Batch for epoch {epoch_id} processed.\")\n",
    "\n",
    "# Write stream using foreachBatch to continuously trigger\n",
    "query = streamingDF.writeStream.foreachBatch(foreach_batch_function).trigger(processingTime='10 seconds').option(\"checkpointLocation\", checkpoint_location).start()\n",
    "\n",
    "query.awaitTermination()\n"
   ]
  }
 ],
 "metadata": {
  "application/vnd.databricks.v1+notebook": {
   "dashboards": [],
   "environmentMetadata": null,
   "language": "python",
   "notebookMetadata": {
    "mostRecentlyExecutedCommandWithImplicitDF": {
     "commandId": 1284306566160616,
     "dataframes": [
      "_sqldf"
     ]
    },
    "pythonIndentUnit": 2
   },
   "notebookName": "Bronze layer",
   "widgets": {}
  }
 },
 "nbformat": 4,
 "nbformat_minor": 0
}
