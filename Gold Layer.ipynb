{
 "cells": [
  {
   "cell_type": "markdown",
   "metadata": {
    "application/vnd.databricks.v1+cell": {
     "cellMetadata": {
      "byteLimit": 2048000,
      "rowLimit": 10000
     },
     "inputWidgets": {},
     "nuid": "1236fe7c-d97b-4f89-8c7e-2f3cda6370d9",
     "showTitle": false,
     "title": ""
    }
   },
   "source": [
    "###Gold Layer"
   ]
  },
  {
   "cell_type": "markdown",
   "metadata": {
    "application/vnd.databricks.v1+cell": {
     "cellMetadata": {
      "byteLimit": 2048000,
      "rowLimit": 10000
     },
     "inputWidgets": {},
     "nuid": "15a91f07-a7c9-48dd-a4de-e26ea24b5704",
     "showTitle": false,
     "title": ""
    }
   },
   "source": [
    "%md\n",
    "*sourcing config file* "
   ]
  },
  {
   "cell_type": "code",
   "execution_count": 0,
   "metadata": {
    "application/vnd.databricks.v1+cell": {
     "cellMetadata": {
      "byteLimit": 2048000,
      "rowLimit": 10000
     },
     "inputWidgets": {},
     "nuid": "e9f67ff3-302f-431d-b90a-282c496d5226",
     "showTitle": false,
     "title": ""
    }
   },
   "outputs": [],
   "source": [
    "%run /capstone/config_script/setup_schema_and_config"
   ]
  },
  {
   "cell_type": "markdown",
   "metadata": {
    "application/vnd.databricks.v1+cell": {
     "cellMetadata": {
      "byteLimit": 2048000,
      "rowLimit": 10000
     },
     "inputWidgets": {},
     "nuid": "ad23ad0c-18c8-478a-9861-edbfecf11f77",
     "showTitle": false,
     "title": ""
    }
   },
   "source": [
    "%md\n",
    "###Reading source data from silver layer"
   ]
  },
  {
   "cell_type": "code",
   "execution_count": 0,
   "metadata": {
    "application/vnd.databricks.v1+cell": {
     "cellMetadata": {
      "byteLimit": 2048000,
      "rowLimit": 10000
     },
     "inputWidgets": {},
     "nuid": "86eb001c-c863-4f89-855a-ca16493ae623",
     "showTitle": false,
     "title": ""
    }
   },
   "outputs": [
    {
     "output_type": "stream",
     "name": "stdout",
     "output_type": "stream",
     "text": [
      "Customer input path: dbfs:/FileStore/capstone/cust_tbl/\nBranch input path: dbfs:/FileStore/capstone/branches_tbl/\nTransaction input path: dbfs:/FileStore/capstone/txn_tbl/\nCheckpoint location: dbfs:/FileStore/capstone/txn_tbl/checkpoint_location/\nColumns for null check: ['transaction_id', 'customer_id']\nExpected customer ID length: 5\nOrdered fraud flag columns: ['flag_id', 'transaction_id', 'flag_type', 'timestamp', 'confidence_score']\nOrdered customer segments columns: ['customer_id', 'segment_name', 'segment_description', 'last_updated_date']\nbronze_tables['txn'] is: bronze.txn_tbl\nbronze_tables['cust'] is: bronze.cust_tbl\nbronze_tables['branch'] is: bronze.branches_tbl\n"
     ]
    }
   ],
   "source": [
    "# fraud_flag_df = spark.read.table(silver_tables['fraud_flag'])\n",
    "# customer_segments_df = spark.read.table(silver_tables['customer_segments'])\n",
    "fraud_flag_df = spark.readStream.format(\"delta\").table(silver_tables['fraud_flag'])\n",
    "customer_segments_df = spark.readStream.format(\"delta\").table(silver_tables['customer_segments'])"
   ]
  },
  {
   "cell_type": "markdown",
   "metadata": {
    "application/vnd.databricks.v1+cell": {
     "cellMetadata": {
      "byteLimit": 2048000,
      "rowLimit": 10000
     },
     "inputWidgets": {},
     "nuid": "79d2573a-ad37-4741-92e2-657627c578fd",
     "showTitle": false,
     "title": ""
    }
   },
   "source": [
    "####Aggregating customer in different Segments"
   ]
  },
  {
   "cell_type": "code",
   "execution_count": 0,
   "metadata": {
    "application/vnd.databricks.v1+cell": {
     "cellMetadata": {
      "byteLimit": 2048000,
      "rowLimit": 10000
     },
     "inputWidgets": {},
     "nuid": "2eb02d3b-3dda-469d-b0c1-026511f74b9f",
     "showTitle": false,
     "title": ""
    }
   },
   "outputs": [
    {
     "output_type": "stream",
     "name": "stdout",
     "output_type": "stream",
     "text": [
      "Out[54]: <pyspark.sql.streaming.query.StreamingQuery at 0x7f30ccf7cb80>"
     ]
    }
   ],
   "source": [
    "from pyspark.sql.functions import count, first\n",
    "from pyspark.sql import functions as F\n",
    "from pyspark.sql.functions import udf\n",
    "from pyspark.sql.types import StringType\n",
    "import uuid\n",
    "\n",
    "df_with_watermark = customer_segments_df.withWatermark(\"last_updated_date\", \"10 minutes\")\n",
    "\n",
    "# customer_segments_result_df = customer_segments_df.groupBy(\"customer_id\") \\\n",
    "customer_segments_result_df = df_with_watermark.groupBy(\"customer_id\") \\\n",
    "    .agg(\n",
    "        count(\"*\").alias(\"segment_count\"),\n",
    "        first(\"segment_name\").alias(\"segment_name\"),\n",
    "        first(\"segment_description\").alias(\"segment_description\"),\n",
    "        first(\"last_updated_date\").alias(\"last_updated_date\")\n",
    "    )\n",
    "\n",
    "# Drop 'segment_count' column\n",
    "def generate_uuid():\n",
    "    return str(uuid.uuid4())\n",
    "\n",
    "uuid_udf = udf(generate_uuid, StringType())\n",
    "\n",
    "\n",
    "# customer_segments_result_df = customer_segments_result_df.drop(\"segment_count\").withColumn('segment_id', F.concat(F.lit(\"S00\"), F.expr(\"monotonically_increasing_id()\")))\n",
    "\n",
    "customer_segments_result_df = customer_segments_result_df.drop(\"segment_count\").withColumn('segment_id', uuid_udf())\n",
    "\n",
    "# Reorder the columns\n",
    "ordered_columns = [ 'segment_id','customer_id', 'segment_name', 'segment_description', 'last_updated_date']\n",
    "df_ordered = customer_segments_result_df.select(ordered_columns)\n",
    "\n",
    "# Write the DataFrame to a Delta table\n",
    "# df_ordered.write.format(\"delta\").mode(\"overwrite\").saveAsTable(gold_tables['gold_customer_segments'])\n",
    "df_ordered.writeStream \\\n",
    "    .format(\"delta\") \\\n",
    "    .outputMode(\"complete\") \\\n",
    "    .option(\"checkpointLocation\", \"dbfs:/FileStore/capstone/txn_tbl/checkpoint/gold_customer_segments/\") \\\n",
    "    .table(gold_tables['gold_customer_segments'])\n",
    "\n"
   ]
  },
  {
   "cell_type": "code",
   "execution_count": 0,
   "metadata": {
    "application/vnd.databricks.v1+cell": {
     "cellMetadata": {
      "byteLimit": 2048000,
      "rowLimit": 10000
     },
     "inputWidgets": {},
     "nuid": "79c98ed6-44e2-40e2-84c8-b569bf425473",
     "showTitle": false,
     "title": ""
    }
   },
   "outputs": [
    {
     "output_type": "stream",
     "name": "stdout",
     "output_type": "stream",
     "text": [
      "root\n |-- segment_id: string (nullable = true)\n |-- customer_id: string (nullable = true)\n |-- segment_name: string (nullable = true)\n |-- segment_description: string (nullable = true)\n |-- last_updated_date: timestamp (nullable = true)\n\n"
     ]
    }
   ],
   "source": [
    "df_ordered.printSchema()"
   ]
  },
  {
   "cell_type": "markdown",
   "metadata": {
    "application/vnd.databricks.v1+cell": {
     "cellMetadata": {
      "byteLimit": 2048000,
      "rowLimit": 10000
     },
     "inputWidgets": {},
     "nuid": "dfb1fca5-45ad-49df-8cae-f18426f89bdf",
     "showTitle": false,
     "title": ""
    }
   },
   "source": [
    "####Fraud Flag different table creation"
   ]
  },
  {
   "cell_type": "code",
   "execution_count": 0,
   "metadata": {
    "application/vnd.databricks.v1+cell": {
     "cellMetadata": {
      "byteLimit": 2048000,
      "rowLimit": 10000
     },
     "inputWidgets": {},
     "nuid": "3af0cad0-83db-4c96-87fc-c41c7743edd4",
     "showTitle": false,
     "title": ""
    }
   },
   "outputs": [
    {
     "output_type": "stream",
     "name": "stdout",
     "output_type": "stream",
     "text": [
      "Out[61]: <pyspark.sql.streaming.query.StreamingQuery at 0x7f30cc7a7550>"
     ]
    }
   ],
   "source": [
    "# fraud_flag_df.write.format(\"delta\").mode(\"overwrite\").saveAsTable(gold_tables['gold_fraud_flag'])\n",
    "\n",
    "fraud_flag_df.writeStream \\\n",
    "    .format(\"delta\") \\\n",
    "    .outputMode(\"append\") \\\n",
    "    .option(\"checkpointLocation\", \"dbfs:/FileStore/capstone/txn_tbl/checkpoint/gold_customer_segments/\") \\\n",
    "    .table(gold_tables['gold_fraud_flag'])\n",
    "\n",
    "\n"
   ]
  },
  {
   "cell_type": "code",
   "execution_count": 0,
   "metadata": {
    "application/vnd.databricks.v1+cell": {
     "cellMetadata": {
      "byteLimit": 2048000,
      "rowLimit": 10000
     },
     "inputWidgets": {},
     "nuid": "53f57d1c-e57f-4fdd-b9c6-64012025ccde",
     "showTitle": false,
     "title": ""
    },
    "jupyter": {
     "outputs_hidden": true
    }
   },
   "outputs": [],
   "source": []
  }
 ],
 "metadata": {
  "application/vnd.databricks.v1+notebook": {
   "dashboards": [],
   "environmentMetadata": null,
   "language": "python",
   "notebookMetadata": {
    "mostRecentlyExecutedCommandWithImplicitDF": {
     "commandId": 4216989277860598,
     "dataframes": [
      "_sqldf"
     ]
    },
    "pythonIndentUnit": 2
   },
   "notebookName": "Gold Layer",
   "widgets": {}
  }
 },
 "nbformat": 4,
 "nbformat_minor": 0
}
