{
 "cells": [
  {
   "cell_type": "code",
   "execution_count": 0,
   "metadata": {
    "application/vnd.databricks.v1+cell": {
     "cellMetadata": {},
     "inputWidgets": {},
     "nuid": "15c3bba9-435e-4262-8a54-67c8ae981f3a",
     "showTitle": false,
     "title": ""
    }
   },
   "outputs": [],
   "source": [
    "{\n",
    "    \"tables\": {\n",
    "        \"bronze\": {\n",
    "            \"txn\": \"bronze.txn_tbl\",\n",
    "            \"cust\": \"bronze.cust_tbl\",\n",
    "            \"branch\": \"bronze.branches_tbl\"\n",
    "        },\n",
    "        \"silver\": {\n",
    "            \"fraud_flag\": \"silver.fraud_flag\",\n",
    "            \"customer_segments\": \"silver.customer_segments\",\n",
    "            \"txn\": \"silver.transaction\",\n",
    "            \"cust\": \"silver.customer\",\n",
    "            \"branch\": \"silver.branch\",\t\n",
    "\t\t\t\"cust_txn\": \"silver.cust_txn\"\n",
    "        },\n",
    "        \"gold\": {\n",
    "            \"gold_fraud_flag\": \"gold.fraud_flag\",\n",
    "            \"gold_customer_segments\": \"gold.customer_segments\"\n",
    "        }\n",
    "    },\n",
    "    \"paths\": {\n",
    "        \"input_path_cust\": \"dbfs:/FileStore/capstone/cust_tbl/\",\n",
    "        \"input_path_branch\": \"dbfs:/FileStore/capstone/branches_tbl/\",\n",
    "        \"input_path_txn\": \"dbfs:/FileStore/capstone/txn_tbl/\",\n",
    "        \"checkpoint_location\": \"dbfs:/FileStore/capstone/txn_tbl/checkpoint_location/\"\n",
    "    },\n",
    "    \"columns_for_null_check\": [\"transaction_id\", \"customer_id\"],\n",
    "    \"expected_cust_id_length\": 5,\n",
    "\t\"ordered_fraud_flag_columns\": [\"flag_id\", \"transaction_id\", \"flag_type\", \"timestamp\", \"confidence_score\"],\n",
    "    \"ordered_customer_segments_columns\": [\"customer_id\", \"segment_name\", \"segment_description\", \"last_updated_date\"],\n",
    "\t\"ordered_cut_txn_columns\" : [\"branch_id\", \"customer_id\", \"transaction_id\", \"channel\", \"transaction_type\", \"amount\", \"currency\", \"timestamp\", \"status\", \"branches_tbl.name\", \"email\", \"phone\", \"address\", \"credit_score\", \"join_date\", \"last_update\", \"location\", \"timezone\"]\n",
    "}\n"
   ]
  }
 ],
 "metadata": {
  "application/vnd.databricks.v1+notebook": {
   "dashboards": [],
   "environmentMetadata": null,
   "language": "python",
   "notebookMetadata": {
    "pythonIndentUnit": 2
   },
   "notebookName": "config.json",
   "widgets": {}
  }
 },
 "nbformat": 4,
 "nbformat_minor": 0
}
