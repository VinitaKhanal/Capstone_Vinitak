{
 "cells": [
  {
   "cell_type": "code",
   "execution_count": 0,
   "metadata": {
    "application/vnd.databricks.v1+cell": {
     "cellMetadata": {
      "byteLimit": 2048000,
      "implicitDf": true,
      "rowLimit": 10000
     },
     "inputWidgets": {},
     "nuid": "652160a1-fdde-48c6-82dd-809f1fd34b6b",
     "showTitle": false,
     "title": ""
    }
   },
   "outputs": [
    {
     "output_type": "display_data",
     "data": {
      "text/html": [
       "<style scoped>\n",
       "  .table-result-container {\n",
       "    max-height: 300px;\n",
       "    overflow: auto;\n",
       "  }\n",
       "  table, th, td {\n",
       "    border: 1px solid black;\n",
       "    border-collapse: collapse;\n",
       "  }\n",
       "  th, td {\n",
       "    padding: 5px;\n",
       "  }\n",
       "  th {\n",
       "    text-align: left;\n",
       "  }\n",
       "</style><div class='table-result-container'><table class='table-result'><thead style='background-color: white'><tr></tr></thead><tbody></tbody></table></div>"
      ]
     },
     "metadata": {
      "application/vnd.databricks.v1+output": {
       "addedWidgets": {},
       "aggData": [],
       "aggError": "",
       "aggOverflow": false,
       "aggSchema": [],
       "aggSeriesLimitReached": false,
       "aggType": "",
       "arguments": {},
       "columnCustomDisplayInfos": {},
       "data": [],
       "datasetInfos": [],
       "dbfsResultPath": null,
       "isJsonSchema": true,
       "metadata": {},
       "overflow": false,
       "plotOptions": {
        "customPlotOptions": {},
        "displayType": "table",
        "pivotAggregation": null,
        "pivotColumns": null,
        "xColumns": null,
        "yColumns": null
       },
       "removedWidgets": [],
       "schema": [],
       "type": "table"
      }
     },
     "output_type": "display_data"
    }
   ],
   "source": [
    "%sql\n",
    "Create schema  if not exists bronze;\n",
    "Create schema  if not exists silver;\n",
    "Create schema  if not exists gold;"
   ]
  },
  {
   "cell_type": "code",
   "execution_count": 0,
   "metadata": {
    "application/vnd.databricks.v1+cell": {
     "cellMetadata": {
      "byteLimit": 2048000,
      "rowLimit": 10000
     },
     "inputWidgets": {},
     "nuid": "3bc92cd4-0aca-4869-9d5a-2a32193adf72",
     "showTitle": false,
     "title": ""
    }
   },
   "outputs": [
    {
     "output_type": "stream",
     "name": "stdout",
     "output_type": "stream",
     "text": [
      "Customer input path: dbfs:/FileStore/capstone/cust_tbl/\nBranch input path: dbfs:/FileStore/capstone/branches_tbl/\nTransaction input path: dbfs:/FileStore/capstone/txn_tbl/\nCheckpoint location: dbfs:/FileStore/capstone/txn_tbl/checkpoint_location/\nCheckpoint location silver txn: dbfs:/FileStore/capstone/checkpoint/silver/txn/\nCheckpoint location cust txn: dbfs:/FileStore/capstone/checkpoint/silver/cust_txn/\nCheckpoint location cust seg : dbfs:/FileStore/capstone/checkpoint/silver/customer_segments/\nCheckpoint location fraud flag : dbfs:/FileStore/capstone/checkpoint/silver/fraud_flag/\nCheckpoint location gold fraud flag : dbfs:/FileStore/capstone/checkpoint/gold/farud_flag/\nCheckpoint location gold cust seg : dbfs:/FileStore/capstone/checkpoint/gold/customer_segments/\nColumns for null check: ['transaction_id', 'customer_id']\nExpected customer ID length: 5\nOrdered fraud flag columns: ['flag_id', 'transaction_id', 'flag_type', 'timestamp', 'confidence_score']\nOrdered customer segments columns: ['customer_id', 'segment_name', 'segment_description', 'last_updated_date']\nbronze_tables['txn'] is: bronze.txn_tbl\nbronze_tables['cust'] is: bronze.cust_tbl\nbronze_tables['branch'] is: bronze.branches_tbl\n"
     ]
    }
   ],
   "source": [
    "import json\n",
    "\n",
    "# Read the JSON file content from DBFS\n",
    "file_content = dbutils.fs.head(\"dbfs:/FileStore/JsonConfig/config.json\", 10000)  \n",
    "\n",
    "# Parse JSON content\n",
    "config = json.loads(file_content)\n",
    "\n",
    "# Access configuration variables\n",
    "bronze_tables = config['tables']['bronze']\n",
    "silver_tables = config['tables']['silver']\n",
    "gold_tables = config['tables']['gold']\n",
    "\n",
    "input_path_cust = config['paths']['input_path_cust']\n",
    "input_path_branch = config['paths']['input_path_branch']\n",
    "input_path_txn = config['paths']['input_path_txn']\n",
    "checkpoint_location = config['paths']['checkpoint_location']\n",
    "checkpoint_location_silver_txn = config['paths']['checkpoint_location_silver_txn']\n",
    "checkpoint_location_silver_cust_txn = config['paths']['checkpoint_location_silver_cust_txn']\n",
    "checkpoint_location_silver_customer_segments = config['paths']['checkpoint_location_silver_customer_segments']\n",
    "checkpoint_location_silver_fraud_flag = config['paths']['checkpoint_location_silver_fraud_flag']\n",
    "checkpoint_location_gold_fraud_flag = config['paths']['checkpoint_location_gold_fraud_flag']\n",
    "checkpoint_location_gold_customer_segments = config['paths']['checkpoint_location_gold_customer_segments']\n",
    "# Columns to check for null values\n",
    "columns_for_null_check = config.get('columns_for_null_check', [])\n",
    "\n",
    "# Expected customer ID length\n",
    "expected_cust_id_length = config.get('expected_cust_id_length', None)\n",
    "\n",
    "# Ordered columns for fraud flag\n",
    "ordered_fraud_flag_columns = config.get('ordered_fraud_flag_columns', [])\n",
    "\n",
    "# Ordered columns for customer segments\n",
    "ordered_customer_segments_columns = config.get('ordered_customer_segments_columns', [])\n",
    "ordered_cut_txn_columns = config.get('ordered_cut_txn_columns', [])\n",
    "\n",
    "# Print paths and configuration for verification\n",
    "print(f\"Customer input path: {input_path_cust}\")\n",
    "print(f\"Branch input path: {input_path_branch}\")\n",
    "print(f\"Transaction input path: {input_path_txn}\")\n",
    "print(f\"Checkpoint location: {checkpoint_location}\")\n",
    "print(f\"Checkpoint location silver txn: {checkpoint_location_silver_txn}\")\n",
    "print(f\"Checkpoint location cust txn: {checkpoint_location_silver_cust_txn}\")\n",
    "print(f\"Checkpoint location cust seg : {checkpoint_location_silver_customer_segments}\")\n",
    "print(f\"Checkpoint location fraud flag : {checkpoint_location_silver_fraud_flag}\")\n",
    "print(f\"Checkpoint location gold fraud flag : {checkpoint_location_gold_fraud_flag}\")\n",
    "print(f\"Checkpoint location gold cust seg : {checkpoint_location_gold_customer_segments}\")\n",
    "\n",
    "print(f\"Columns for null check: {columns_for_null_check}\")\n",
    "print(f\"Expected customer ID length: {expected_cust_id_length}\")\n",
    "print(f\"Ordered fraud flag columns: {ordered_fraud_flag_columns}\")\n",
    "print(f\"Ordered customer segments columns: {ordered_customer_segments_columns}\")\n",
    "print(f\"bronze_tables['txn'] is: {bronze_tables['txn']}\")\n",
    "print(f\"bronze_tables['cust'] is: {bronze_tables['cust']}\")\n",
    "print(f\"bronze_tables['branch'] is: {bronze_tables['branch']}\")\n"
   ]
  }
 ],
 "metadata": {
  "application/vnd.databricks.v1+notebook": {
   "dashboards": [],
   "environmentMetadata": null,
   "language": "python",
   "notebookMetadata": {
    "mostRecentlyExecutedCommandWithImplicitDF": {
     "commandId": 1596567336340045,
     "dataframes": [
      "_sqldf"
     ]
    },
    "pythonIndentUnit": 2
   },
   "notebookName": "setup_schema_and_config",
   "widgets": {}
  }
 },
 "nbformat": 4,
 "nbformat_minor": 0
}
